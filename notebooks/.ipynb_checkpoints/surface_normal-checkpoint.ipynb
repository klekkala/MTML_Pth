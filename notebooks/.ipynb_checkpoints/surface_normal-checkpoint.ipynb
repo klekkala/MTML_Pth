{
 "cells": [
  {
   "cell_type": "code",
   "execution_count": 1,
   "id": "black-health",
   "metadata": {},
   "outputs": [],
   "source": [
    "from utils import load_diode_sn_dataset\n",
    "from utils import EarlyStopping\n",
    "from networks import SegNet\n",
    "from utils import get_data_loader\n",
    "from training import train_model\n",
    "from training import train_loop\n",
    "from utils import draw_training_curves\n",
    "from training import run_inference\n",
    "import time\n",
    "timestr = time.strftime(\"%Y%m%d-%H%M%S\")\n",
    "BATCH_SIZE = 32"
   ]
  },
  {
   "cell_type": "code",
   "execution_count": 2,
   "id": "adequate-mathematics",
   "metadata": {},
   "outputs": [
    {
     "name": "stdout",
     "output_type": "stream",
     "text": [
      "length of training data:  5000\n",
      "length of validation data:  500\n",
      "length of testing data:  771\n"
     ]
    }
   ],
   "source": [
    "data, labels = load_diode_sn_dataset()\n",
    "                            "
   ]
  },
  {
   "cell_type": "code",
   "execution_count": 3,
   "id": "emotional-rubber",
   "metadata": {},
   "outputs": [],
   "source": [
    "train_loader =  get_data_loader('surface_normal', data, labels, \"train\", BATCH_SIZE)\n",
    "val_loader =  get_data_loader('surface_normal', data, labels, \"val\", BATCH_SIZE)\n",
    "test_loader =  get_data_loader('surface_normal', data, labels, \"test\", BATCH_SIZE)"
   ]
  },
  {
   "cell_type": "code",
   "execution_count": null,
   "id": "thirty-sunglasses",
   "metadata": {},
   "outputs": [
    {
     "name": "stdout",
     "output_type": "stream",
     "text": [
      "Running Epoch 1\n"
     ]
    }
   ],
   "source": [
    "# train model\n",
    "losses, accuracies, model, flag = train_model('surface_normal', train_loader, val_loader, timestr)"
   ]
  },
  {
   "cell_type": "code",
   "execution_count": null,
   "id": "turned-rocket",
   "metadata": {},
   "outputs": [],
   "source": [
    "VIS_RESULTS_PATH = '/home4/shubham/MTML_Pth/results/'\n",
    "os.makedirs(VIS_RESULTS_PATH+'surface_normal'+'/'+timestr)\n",
    "\n",
    "# plot trained metrics\n",
    "loss_curve = \"loss\"\n",
    "draw_training_curves(losses[0], losses[1],loss_curve)\n",
    "\n",
    "run_inference(\"surface_normal\", model, val_loader)"
   ]
  }
 ],
 "metadata": {
  "kernelspec": {
   "display_name": "Python 3",
   "language": "python",
   "name": "python3"
  },
  "language_info": {
   "codemirror_mode": {
    "name": "ipython",
    "version": 3
   },
   "file_extension": ".py",
   "mimetype": "text/x-python",
   "name": "python",
   "nbconvert_exporter": "python",
   "pygments_lexer": "ipython3",
   "version": "3.8.8"
  }
 },
 "nbformat": 4,
 "nbformat_minor": 5
}
