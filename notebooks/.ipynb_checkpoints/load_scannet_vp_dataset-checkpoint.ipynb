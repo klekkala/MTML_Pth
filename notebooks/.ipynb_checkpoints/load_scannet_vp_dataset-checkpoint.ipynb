{
 "cells": [
  {
   "cell_type": "code",
   "execution_count": 37,
   "id": "frequent-strengthening",
   "metadata": {},
   "outputs": [],
   "source": [
    "import glob\n",
    "import numpy as np\n",
    "import os"
   ]
  },
  {
   "cell_type": "code",
   "execution_count": 38,
   "id": "hydraulic-entrance",
   "metadata": {},
   "outputs": [],
   "source": [
    "PATH_TRAIN = '/drive/scannet-vp/'"
   ]
  },
  {
   "cell_type": "code",
   "execution_count": 42,
   "id": "emerging-manor",
   "metadata": {},
   "outputs": [],
   "source": [
    "def Extract(lst):\n",
    "    return [item[0] for item in lst]\n",
    "\n",
    "def load_scannet_vp_dataset():\n",
    "    \n",
    "    data = {}\n",
    "    label = {}\n",
    "\n",
    "    lst = os.listdir(PATH_TRAIN)\n",
    "\n",
    "    final_images = []\n",
    "    final_vpoints = []\n",
    "    lst= lst[1:]\n",
    "    \n",
    "    for folder in lst:\n",
    "        images = glob.glob(PATH_SCANNET_VP_TRAIN+folder+\"/*color.png\")\n",
    "        vpoints = glob.glob(PATH_SCANNET_VP_TRAIN+folder+\"/*vanish.npz\")\n",
    "        images = np.array_split(images, 25)\n",
    "        vpoints = np.array_split(vpoints, 25)\n",
    "\n",
    "        final_images.extend(Extract(images))\n",
    "        final_vpoints.extend(Extract(vpoints))\n",
    "    \n",
    "    index = np.random.permutation(len(final_images))\n",
    "    final_images = np.array(final_images)[index]\n",
    "    final_vpoints = np.array(final_vpoints)[index]\n",
    "    \n",
    "    val = int(len(final_images)*0.8)\n",
    "    test = int(len(final_images)*0.9)\n",
    "    \n",
    "    data['train'], data['val'], data['test'] = final_images[:val], final_images[val:test], final_images[test:]\n",
    "    label['train'], label['val'], label['test'] = final_vpoints[:val], final_vpoints[val:test], final_vpoints[test:]\n",
    "    \n",
    "    print(\"length of training data: \",len(data['train']))\n",
    "    print(\"length of validation data: \",len(data['val']))\n",
    "    print(\"length of testing data: \",len(data['test']))\n",
    "    return data, label"
   ]
  },
  {
   "cell_type": "code",
   "execution_count": 43,
   "id": "engaging-property",
   "metadata": {},
   "outputs": [
    {
     "name": "stdout",
     "output_type": "stream",
     "text": [
      "length of training data:  8300\n",
      "length of validation data:  1037\n",
      "length of testing data:  1038\n"
     ]
    }
   ],
   "source": [
    "d,l = load_scannet_vp_dataset()"
   ]
  },
  {
   "cell_type": "code",
   "execution_count": null,
   "id": "union-anaheim",
   "metadata": {},
   "outputs": [],
   "source": []
  },
  {
   "cell_type": "code",
   "execution_count": null,
   "id": "impressed-garden",
   "metadata": {},
   "outputs": [],
   "source": []
  },
  {
   "cell_type": "code",
   "execution_count": null,
   "id": "successful-filter",
   "metadata": {},
   "outputs": [],
   "source": []
  },
  {
   "cell_type": "code",
   "execution_count": null,
   "id": "american-afternoon",
   "metadata": {},
   "outputs": [],
   "source": []
  }
 ],
 "metadata": {
  "kernelspec": {
   "display_name": "Python 3",
   "language": "python",
   "name": "python3"
  },
  "language_info": {
   "codemirror_mode": {
    "name": "ipython",
    "version": 3
   },
   "file_extension": ".py",
   "mimetype": "text/x-python",
   "name": "python",
   "nbconvert_exporter": "python",
   "pygments_lexer": "ipython3",
   "version": "3.8.8"
  }
 },
 "nbformat": 4,
 "nbformat_minor": 5
}
