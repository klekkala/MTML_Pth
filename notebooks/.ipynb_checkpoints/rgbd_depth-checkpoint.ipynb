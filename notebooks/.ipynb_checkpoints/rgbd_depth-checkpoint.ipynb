{
 "cells": [
  {
   "cell_type": "code",
   "execution_count": 1,
   "id": "anticipated-discount",
   "metadata": {},
   "outputs": [],
   "source": [
    "from PIL import Image\n",
    "import numpy as np\n",
    "import matplotlib.pyplot as plt\n",
    "\n",
    "from utils import load_sunrgbd_dataset_original\n",
    "from utils import EarlyStopping\n",
    "from utils import get_data_loader\n",
    "from utils import ConfMatrix\n",
    "from utils import draw_training_curves\n",
    "from training import run_inference\n",
    "from training import train_model\n",
    "from training import train_loop\n",
    "from networks import SegNet\n",
    "\n",
    "BATCH_SIZE = 32"
   ]
  },
  {
   "cell_type": "code",
   "execution_count": 2,
   "id": "blind-subcommittee",
   "metadata": {},
   "outputs": [],
   "source": [
    "data, label = load_sunrgbd_dataset_original(\"depth\")"
   ]
  },
  {
   "cell_type": "code",
   "execution_count": 3,
   "id": "disciplinary-moral",
   "metadata": {},
   "outputs": [],
   "source": [
    "train_loader = get_data_loader('depth', data, label, \"train\", BATCH_SIZE)\n",
    "val_loader = get_data_loader('depth', data, label, \"val\", BATCH_SIZE)\n",
    "test_loader = get_data_loader('depth', data, label, \"test\", BATCH_SIZE)\n",
    "\n",
    "# # train model\n",
    "# losses, accuracies, model, flag = train_model('depth', train_loader, val_loader)\n",
    "\n",
    "# plot trained metrics\n",
    "# loss_curve = \"loss\"\n",
    "# draw_training_curves(losses[0], losses[1],loss_curve)\n",
    "# loss_curve = \"accuracy\"\n",
    "# draw_training_curves(accuracies[0], accuracies[1],loss_curve)\n",
    "\n",
    "# run_inference('segmentation', model, test_loader)"
   ]
  },
  {
   "cell_type": "code",
   "execution_count": null,
   "id": "fitted-spokesman",
   "metadata": {},
   "outputs": [],
   "source": [
    "losses, accuracies, model, flag = train_model('depth', train_loader, val_loader)"
   ]
  },
  {
   "cell_type": "code",
   "execution_count": null,
   "id": "economic-resource",
   "metadata": {},
   "outputs": [],
   "source": [
    "# lot trained metrics\n",
    "loss_curve = \"loss\"\n",
    "draw_training_curves(losses[0], losses[1],loss_curve)\n",
    "loss_curve = \"accuracy\"\n",
    "draw_training_curves(accuracies[0], accuracies[1],loss_curve)\n",
    "\n",
    "run_inference('depth', model, test_loader)"
   ]
  },
  {
   "cell_type": "code",
   "execution_count": null,
   "id": "premier-queue",
   "metadata": {},
   "outputs": [],
   "source": []
  }
 ],
 "metadata": {
  "kernelspec": {
   "display_name": "Python 3",
   "language": "python",
   "name": "python3"
  },
  "language_info": {
   "codemirror_mode": {
    "name": "ipython",
    "version": 3
   },
   "file_extension": ".py",
   "mimetype": "text/x-python",
   "name": "python",
   "nbconvert_exporter": "python",
   "pygments_lexer": "ipython3",
   "version": "3.8.8"
  }
 },
 "nbformat": 4,
 "nbformat_minor": 5
}
