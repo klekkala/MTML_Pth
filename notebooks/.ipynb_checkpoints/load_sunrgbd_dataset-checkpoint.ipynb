{
 "cells": [
  {
   "cell_type": "code",
   "execution_count": 12,
   "id": "passive-harbor",
   "metadata": {},
   "outputs": [],
   "source": [
    "import numpy as np\n",
    "import glob\n",
    "import os\n",
    "import re\n",
    "import scipy.io\n",
    "import matplotlib.pyplot as plt\n",
    "\n",
    "REL_PATH = '/home4/shubham/MTML_Pth/datasets/SUNRGBD/'\n",
    "\n",
    "PATH_TRAIN = '/home4/shubham/MTML_Pth/datasets/sunrgbd-meta-data/SUNRGBD-train_images/'\n",
    "PATH_TRAIN_LABEL = '/home4/shubham/MTML_Pth/datasets/sunrgbd-meta-data/train13labels/'\n",
    "\n",
    "PATH_TEST = '/home4/shubham/MTML_Pth/datasets/sunrgbd-meta-data/SUNRGBD-test_images/'\n",
    "PATH_TEST_LABEL = '/home4/shubham/MTML_Pth/datasets/sunrgbd-meta-data/test13labels/'"
   ]
  },
  {
   "cell_type": "code",
   "execution_count": 13,
   "id": "working-peace",
   "metadata": {},
   "outputs": [],
   "source": [
    "def load_dataset_original():\n",
    "    \"\"\"\n",
    "    returns a dictionary of train, test and validation images and their corresponding segmentation maps\n",
    "    \"\"\"\n",
    "    data = {}\n",
    "    label = {}\n",
    "    \n",
    "    images = []\n",
    "    seg = []\n",
    "\n",
    "    for filename in glob.iglob(REL_PATH + '**/image/*.jpg', recursive=True):\n",
    "        images.append(filename)\n",
    "        path = '/'.join(filename.split('/')[:-2])+\"/seg.mat\"\n",
    "        seg.append(path)\n",
    "        \n",
    "    index = np.random.permutation(len(images))\n",
    "\n",
    "    images = np.array(images)[index]\n",
    "    labels = np.array(seg)[index]\n",
    "    \n",
    "    train = int(len(images)*0.8)\n",
    "    val = int(len(images)*0.9)\n",
    "    \n",
    "    data[\"train\"], data[\"val\"], data[\"test\"] = images[:train], images[train:val], images[val:]\n",
    "    label[\"train\"], label[\"val\"], label[\"test\"] = labels[:train], labels[train:val], images[val:]\n",
    "    \n",
    "    return data, label\n",
    "\n",
    "def load_dataset():\n",
    "    \"\"\"\n",
    "    load dataset from pre-split data 5k train and 5k test\n",
    "    \"\"\"\n",
    "    data, label = {}, {}\n",
    "    \n",
    "    train = glob.glob(PATH_TRAIN+'*.jpg')\n",
    "    lab = glob.glob(PATH_TRAIN_LABEL+'*.png')\n",
    "    data[\"train\"] = sorted(train, key=lambda x: re.findall(r\"\\d+\",x)[1])\n",
    "    label[\"train\"] = sorted(lab, key=lambda x: re.findall(r\"\\d+\",x)[-1])\n",
    "    \n",
    "    test = glob.glob(PATH_TEST+'*.jpg')\n",
    "    lab = glob.glob(PATH_TEST_LABEL+'*.png')\n",
    "    test = sorted(test, key=lambda x: re.findall(r\"\\d+\",x)[1])\n",
    "    lab = sorted(lab, key=lambda x: re.findall(r\"\\d+\",x)[-1])\n",
    "    \n",
    "    data[\"val\"] = test[:2000]\n",
    "    label[\"val\"] = lab[:2000]\n",
    "    data[\"test\"] = test[2000:]\n",
    "    label[\"test\"] = lab[2000:]\n",
    "    \n",
    "    return data, label\n",
    "    "
   ]
  },
  {
   "cell_type": "code",
   "execution_count": null,
   "id": "small-chart",
   "metadata": {},
   "outputs": [],
   "source": []
  },
  {
   "cell_type": "code",
   "execution_count": null,
   "id": "biological-failure",
   "metadata": {},
   "outputs": [],
   "source": []
  },
  {
   "cell_type": "code",
   "execution_count": null,
   "id": "prostate-marijuana",
   "metadata": {},
   "outputs": [],
   "source": []
  }
 ],
 "metadata": {
  "kernelspec": {
   "display_name": "Python 3",
   "language": "python",
   "name": "python3"
  },
  "language_info": {
   "codemirror_mode": {
    "name": "ipython",
    "version": 3
   },
   "file_extension": ".py",
   "mimetype": "text/x-python",
   "name": "python",
   "nbconvert_exporter": "python",
   "pygments_lexer": "ipython3",
   "version": "3.8.8"
  }
 },
 "nbformat": 4,
 "nbformat_minor": 5
}
