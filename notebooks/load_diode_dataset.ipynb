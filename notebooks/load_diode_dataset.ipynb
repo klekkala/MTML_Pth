{
 "cells": [
  {
   "cell_type": "code",
   "execution_count": 1,
   "id": "unable-mouse",
   "metadata": {},
   "outputs": [],
   "source": [
    "import numpy as np\n",
    "import re\n",
    "import glob"
   ]
  },
  {
   "cell_type": "code",
   "execution_count": 2,
   "id": "optical-copyright",
   "metadata": {},
   "outputs": [],
   "source": [
    "PATH = '/drive/diode/'\n",
    "TRAIN = PATH + 'train'\n",
    "TEST = PATH + 'val'"
   ]
  },
  {
   "cell_type": "code",
   "execution_count": 3,
   "id": "floating-million",
   "metadata": {},
   "outputs": [],
   "source": [
    "train_images = []\n",
    "val_images = []\n",
    "\n",
    "for filename in glob.iglob(TRAIN + '/**/*.png', recursive=True):\n",
    "    train_images.append(filename)\n",
    "\n",
    "for filename in glob.iglob(TEST + '/**/*.png', recursive=True):\n",
    "    val_images.append(filename)"
   ]
  },
  {
   "cell_type": "code",
   "execution_count": 4,
   "id": "becoming-weight",
   "metadata": {},
   "outputs": [],
   "source": [
    "train_normals = []\n",
    "val_normals = []\n",
    "\n",
    "for filename in glob.iglob(TRAIN + '/**/*normal.npy', recursive=True):\n",
    "    train_normals.append(filename)\n",
    "\n",
    "for filename in glob.iglob(TEST + '/**/*normal.npy', recursive=True):\n",
    "    val_normals.append(filename)"
   ]
  },
  {
   "cell_type": "code",
   "execution_count": 5,
   "id": "imperial-ridge",
   "metadata": {},
   "outputs": [
    {
     "name": "stdout",
     "output_type": "stream",
     "text": [
      "Training images:  11666\n",
      "Training normals:  11472\n",
      "Testing images:  771\n",
      "Testing normals:  771\n"
     ]
    }
   ],
   "source": [
    "print(\"Training images: \",len(train_images))\n",
    "print(\"Training normals: \",len(train_normals))\n",
    "print(\"Testing images: \",len(val_images))\n",
    "print(\"Testing normals: \",len(val_normals))\n"
   ]
  },
  {
   "cell_type": "code",
   "execution_count": 7,
   "id": "advisory-portsmouth",
   "metadata": {},
   "outputs": [],
   "source": [
    "images_1 = ['/'.join(x.split(\"/\")[:-1]) for x in train_images]\n",
    "images_2 = ['/'.join(x.split(\"/\")[:-1]) for x in train_normals]"
   ]
  },
  {
   "cell_type": "code",
   "execution_count": 8,
   "id": "persistent-breed",
   "metadata": {},
   "outputs": [
    {
     "name": "stdout",
     "output_type": "stream",
     "text": [
      "/drive/diode/train/outdoor/scene_00016/scan_00160 /drive/diode/train/outdoor/scene_00016/scan_00159\n"
     ]
    }
   ],
   "source": [
    "images_1 = sorted(images_1, reverse=True)\n",
    "images_2 = sorted(images_2, reverse=True)\n",
    "\n",
    "for ind,i in enumerate(images_1):\n",
    "    if i!=images_2[ind]:\n",
    "        print(i, images_2[ind])\n",
    "        break"
   ]
  },
  {
   "cell_type": "code",
   "execution_count": 17,
   "id": "naked-packaging",
   "metadata": {},
   "outputs": [],
   "source": [
    "cnt=0\n",
    "for i in images_1:\n",
    "    if i == '/drive/diode/train/outdoor/scene_00016/scan_00160':\n",
    "        cnt+=1"
   ]
  },
  {
   "cell_type": "code",
   "execution_count": 18,
   "id": "atomic-application",
   "metadata": {},
   "outputs": [
    {
     "data": {
      "text/plain": [
       "47"
      ]
     },
     "execution_count": 18,
     "metadata": {},
     "output_type": "execute_result"
    }
   ],
   "source": [
    "cnt"
   ]
  },
  {
   "cell_type": "code",
   "execution_count": null,
   "id": "confident-pharmacology",
   "metadata": {},
   "outputs": [],
   "source": [
    "32"
   ]
  }
 ],
 "metadata": {
  "kernelspec": {
   "display_name": "Python 3",
   "language": "python",
   "name": "python3"
  },
  "language_info": {
   "codemirror_mode": {
    "name": "ipython",
    "version": 3
   },
   "file_extension": ".py",
   "mimetype": "text/x-python",
   "name": "python",
   "nbconvert_exporter": "python",
   "pygments_lexer": "ipython3",
   "version": "3.8.8"
  }
 },
 "nbformat": 4,
 "nbformat_minor": 5
}
