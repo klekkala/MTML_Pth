{
 "cells": [
  {
   "cell_type": "code",
   "execution_count": 69,
   "id": "frequent-strengthening",
   "metadata": {},
   "outputs": [],
   "source": [
    "import glob\n",
    "import numpy as np\n",
    "import os"
   ]
  },
  {
   "cell_type": "code",
   "execution_count": 70,
   "id": "hydraulic-entrance",
   "metadata": {},
   "outputs": [],
   "source": [
    "PATH_TRAIN = '/drive/scannet-vp/'"
   ]
  },
  {
   "cell_type": "code",
   "execution_count": 71,
   "id": "emerging-manor",
   "metadata": {},
   "outputs": [],
   "source": [
    "def load_dataset():\n",
    "    \n",
    "    data = {}\n",
    "    label = {}\n",
    "    \n",
    "    lst = os.listdir(PATH_TRAIN)\n",
    "\n",
    "    final_images = []\n",
    "    final_vpoints = []\n",
    "\n",
    "    for folder in lst:\n",
    "        images = glob.glob(PATH_TRAIN+folder+\"/*color.png\")\n",
    "        vpoints = glob.glob(PATH_TRAIN+folder+\"/*vanish.npz\")\n",
    "        index = np.random.permutation(len(images))\n",
    "        images = np.array(images)[index]\n",
    "        vpoints = np.array(vpoints)[index]\n",
    "        final_images.extend(images[:40])\n",
    "        final_vpoints.extend(vpoints[:40])\n",
    "    \n",
    "    split = int(len(final_images)*0.80)\n",
    "    \n",
    "    data['train'], data['val'] = final_images[:split], final_images[split:]\n",
    "    label['train'], label['val'] = final_vpoints[:split], final_vpoints[split:]\n",
    "    \n",
    "    return data, label"
   ]
  },
  {
   "cell_type": "code",
   "execution_count": 68,
   "id": "engaging-property",
   "metadata": {},
   "outputs": [],
   "source": [
    "data, lab = load_dataset()"
   ]
  },
  {
   "cell_type": "code",
   "execution_count": null,
   "id": "union-anaheim",
   "metadata": {},
   "outputs": [],
   "source": []
  }
 ],
 "metadata": {
  "kernelspec": {
   "display_name": "Python 3",
   "language": "python",
   "name": "python3"
  },
  "language_info": {
   "codemirror_mode": {
    "name": "ipython",
    "version": 3
   },
   "file_extension": ".py",
   "mimetype": "text/x-python",
   "name": "python",
   "nbconvert_exporter": "python",
   "pygments_lexer": "ipython3",
   "version": "3.8.8"
  }
 },
 "nbformat": 4,
 "nbformat_minor": 5
}
