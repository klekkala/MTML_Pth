{
 "cells": [
  {
   "cell_type": "code",
   "execution_count": null,
   "id": "southern-chosen",
   "metadata": {},
   "outputs": [],
   "source": [
    "from utils import load_scannet_vp_dataset\n",
    "from utils import EarlyStopping\n",
    "from networks import VGG16Model\n",
    "from utils import get_data_loader\n",
    "import os\n",
    "from training import train_model\n",
    "from training import train_loop\n",
    "from utils import draw_training_curves\n",
    "from training import run_inference\n",
    "import torch.nn as nn\n",
    "import time\n",
    "\n",
    "timestr = time.strftime(\"%Y%m%d-%H%M%S\")\n",
    "\n",
    "BATCH_SIZE = 182\n",
    "\n",
    "VIS_RESULTS_PATH = '/home4/shubham/MTML_Pth/results/'\n",
    "os.makedirs(VIS_RESULTS_PATH+'vanishing_point'+'/'+timestr)"
   ]
  },
  {
   "cell_type": "code",
   "execution_count": null,
   "id": "heated-organizer",
   "metadata": {},
   "outputs": [],
   "source": [
    "data, label = load_scannet_vp_dataset()"
   ]
  },
  {
   "cell_type": "code",
   "execution_count": null,
   "id": "isolated-greece",
   "metadata": {},
   "outputs": [],
   "source": [
    "train_loader = get_data_loader('vanishing_point', data, label, \"train\", BATCH_SIZE)\n",
    "val_loader = get_data_loader('vanishing_point', data, label, \"val\", BATCH_SIZE)\n",
    "test_loader = get_data_loader('vanishing_point', data, label, \"test\", BATCH_SIZE)"
   ]
  },
  {
   "cell_type": "code",
   "execution_count": null,
   "id": "unexpected-iceland",
   "metadata": {},
   "outputs": [],
   "source": [
    "# train model\n",
    "losses, accuracies, model, flag = train_model('vanishing_point', train_loader, val_loader, timestr)"
   ]
  },
  {
   "cell_type": "code",
   "execution_count": null,
   "id": "quiet-expert",
   "metadata": {},
   "outputs": [],
   "source": [
    "# plot trained metrics \n",
    "loss_curve = \"loss\"\n",
    "draw_training_curves(losses[0], losses[1],loss_curve, 'vanishing_point', timestr)\n"
   ]
  },
  {
   "cell_type": "code",
   "execution_count": null,
   "id": "missing-reconstruction",
   "metadata": {},
   "outputs": [],
   "source": []
  }
 ],
 "metadata": {
  "kernelspec": {
   "display_name": "Python 3",
   "language": "python",
   "name": "python3"
  },
  "language_info": {
   "codemirror_mode": {
    "name": "ipython",
    "version": 3
   },
   "file_extension": ".py",
   "mimetype": "text/x-python",
   "name": "python",
   "nbconvert_exporter": "python",
   "pygments_lexer": "ipython3",
   "version": "3.8.8"
  }
 },
 "nbformat": 4,
 "nbformat_minor": 5
}
