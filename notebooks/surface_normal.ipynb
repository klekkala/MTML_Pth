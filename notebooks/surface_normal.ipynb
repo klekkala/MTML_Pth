{
 "cells": [
  {
   "cell_type": "code",
   "execution_count": 1,
   "id": "black-health",
   "metadata": {},
   "outputs": [],
   "source": [
    "from utils import load_diode_sn_dataset\n",
    "from utils import EarlyStopping\n",
    "from networks import SegNet\n",
    "from utils import get_data_loader\n",
    "from training import train_model\n",
    "from training import train_loop\n",
    "from utils import draw_training_curves\n",
    "from training import run_inference\n",
    "import time\n",
    "timestr = time.strftime(\"%Y%m%d-%H%M%S\")\n",
    "BATCH_SIZE = 32"
   ]
  },
  {
   "cell_type": "code",
   "execution_count": 2,
   "id": "adequate-mathematics",
   "metadata": {},
   "outputs": [
    {
     "name": "stdout",
     "output_type": "stream",
     "text": [
      "length of training data:  5000\n",
      "length of validation data:  500\n",
      "length of testing data:  771\n"
     ]
    }
   ],
   "source": [
    "data, labels = load_diode_sn_dataset()\n",
    "                            "
   ]
  },
  {
   "cell_type": "code",
   "execution_count": 3,
   "id": "tutorial-chicken",
   "metadata": {},
   "outputs": [],
   "source": [
    "train_loader =  get_data_loader('surface_normal', data, labels, \"train\", BATCH_SIZE)\n",
    "val_loader =  get_data_loader('surface_normal', data, labels, \"val\", BATCH_SIZE)\n",
    "test_loader =  get_data_loader('surface_normal', data, labels, \"test\", BATCH_SIZE)"
   ]
  },
  {
   "cell_type": "code",
   "execution_count": null,
   "id": "expanded-channels",
   "metadata": {},
   "outputs": [
    {
     "name": "stdout",
     "output_type": "stream",
     "text": [
      "Running Epoch 1\n",
      "Time required:  16.936347738901773\n",
      "Training loss: 0.1186  Testing loss: 0.1015\n",
      "--------------------------------------------------------\n",
      "Running Epoch 2\n",
      "Time required:  15.51273186604182\n",
      "Training loss: 0.1016  Testing loss: 0.1019\n",
      "--------------------------------------------------------\n",
      "Running Epoch 3\n",
      "Time required:  15.515682371457418\n",
      "Training loss: 0.0998  Testing loss: 0.0963\n",
      "--------------------------------------------------------\n",
      "Running Epoch 4\n",
      "Time required:  15.215525170167288\n",
      "Training loss: 0.0971  Testing loss: 0.0947\n",
      "--------------------------------------------------------\n",
      "Running Epoch 5\n",
      "Time required:  15.308425060908\n",
      "Training loss: 0.0957  Testing loss: 0.0942\n",
      "--------------------------------------------------------\n",
      "Running Epoch 6\n",
      "Time required:  15.565124690532684\n",
      "Training loss: 0.0941  Testing loss: 0.0975\n",
      "--------------------------------------------------------\n",
      "Running Epoch 7\n",
      "Time required:  15.51642644405365\n",
      "Training loss: 0.0937  Testing loss: 0.0946\n",
      "--------------------------------------------------------\n",
      "Running Epoch 8\n",
      "Time required:  15.182610634962717\n",
      "Training loss: 0.0918  Testing loss: 0.0938\n",
      "--------------------------------------------------------\n",
      "Running Epoch 9\n",
      "Time required:  15.166194907824199\n",
      "Training loss: 0.0918  Testing loss: 0.0906\n",
      "--------------------------------------------------------\n",
      "Running Epoch 10\n",
      "Time required:  15.295776160558065\n",
      "Training loss: 0.0897  Testing loss: 0.0929\n",
      "--------------------------------------------------------\n",
      "Running Epoch 11\n",
      "Time required:  15.393147071202597\n",
      "Training loss: 0.0878  Testing loss: 0.0872\n",
      "--------------------------------------------------------\n",
      "Running Epoch 12\n",
      "Time required:  16.86201809247335\n",
      "Training loss: 0.0884  Testing loss: 0.0856\n",
      "--------------------------------------------------------\n",
      "Running Epoch 13\n",
      "Time required:  15.716669221719107\n",
      "Training loss: 0.0872  Testing loss: 0.0858\n",
      "--------------------------------------------------------\n",
      "Running Epoch 14\n",
      "Time required:  15.370825827121735\n",
      "Training loss: 0.0862  Testing loss: 0.0851\n",
      "--------------------------------------------------------\n",
      "Running Epoch 15\n",
      "Time required:  16.091260612010956\n",
      "Training loss: 0.0843  Testing loss: 0.0863\n",
      "--------------------------------------------------------\n",
      "Running Epoch 16\n",
      "Time required:  17.355673408508302\n",
      "Training loss: 0.0838  Testing loss: 0.0845\n",
      "--------------------------------------------------------\n",
      "Running Epoch 17\n",
      "Time required:  15.467997268835704\n",
      "Training loss: 0.0831  Testing loss: 0.0836\n",
      "--------------------------------------------------------\n",
      "Running Epoch 18\n",
      "Time required:  15.421264322598775\n",
      "Training loss: 0.0821  Testing loss: 0.0836\n",
      "--------------------------------------------------------\n",
      "Running Epoch 19\n",
      "Time required:  15.345722881952922\n",
      "Training loss: 0.0823  Testing loss: 0.0831\n",
      "--------------------------------------------------------\n",
      "Running Epoch 20\n",
      "Time required:  15.443863304456075\n",
      "Training loss: 0.0836  Testing loss: 0.0833\n",
      "--------------------------------------------------------\n",
      "Running Epoch 21\n",
      "Time required:  15.213989770412445\n",
      "Training loss: 0.0826  Testing loss: 0.0814\n",
      "--------------------------------------------------------\n",
      "Running Epoch 22\n",
      "Time required:  15.262589780489604\n",
      "Training loss: 0.0801  Testing loss: 0.0796\n",
      "--------------------------------------------------------\n",
      "Running Epoch 23\n"
     ]
    }
   ],
   "source": [
    "# train model\n",
    "losses, accuracies, model, flag = train_model('surface_normal', train_loader, val_loader, timestr)"
   ]
  },
  {
   "cell_type": "code",
   "execution_count": null,
   "id": "turned-rocket",
   "metadata": {},
   "outputs": [],
   "source": [
    "VIS_RESULTS_PATH = '/home4/shubham/MTML_Pth/results/'\n",
    "os.makedirs(VIS_RESULTS_PATH+'surface_normal'+'/'+timestr)\n",
    "\n",
    "# plot trained metrics\n",
    "loss_curve = \"loss\"\n",
    "draw_training_curves(losses[0], losses[1],loss_curve)\n",
    "\n",
    "run_inference(\"surface_normal\", model, val_loader)"
   ]
  }
 ],
 "metadata": {
  "kernelspec": {
   "display_name": "Python 3",
   "language": "python",
   "name": "python3"
  },
  "language_info": {
   "codemirror_mode": {
    "name": "ipython",
    "version": 3
   },
   "file_extension": ".py",
   "mimetype": "text/x-python",
   "name": "python",
   "nbconvert_exporter": "python",
   "pygments_lexer": "ipython3",
   "version": "3.8.8"
  }
 },
 "nbformat": 4,
 "nbformat_minor": 5
}
