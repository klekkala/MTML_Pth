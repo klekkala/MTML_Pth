{
 "cells": [
  {
   "cell_type": "code",
   "execution_count": null,
   "id": "black-health",
   "metadata": {},
   "outputs": [],
   "source": [
    "from utils import load_diode_sn_dataset\n",
    "from utils import EarlyStopping\n",
    "from networks import SegNet\n",
    "from utils import get_data_loader\n",
    "from training import train_model\n",
    "from training import train_loop\n",
    "from utils import draw_training_curves\n",
    "from training import run_inference\n",
    "\n",
    "BATCH_SIZE = 32"
   ]
  },
  {
   "cell_type": "code",
   "execution_count": null,
   "id": "adequate-mathematics",
   "metadata": {},
   "outputs": [],
   "source": [
    "data, labels = load_diode_sn_dataset()\n",
    "                                 \n",
    "train_loader =  get_data_loader('surface_normal', data, labels, \"train\", BATCH_SIZE)\n",
    "val_loader =  get_data_loader('surface_normal', data, labels, \"val\", BATCH_SIZE)\n",
    "\n",
    "# train model\n",
    "losses, accuracies, model, flag = train_model('surface_normal', train_loader, val_loader)\n",
    "\n",
    "# plot trained metrics\n",
    "loss_curve = \"loss\"\n",
    "draw_training_curves(losses[0], losses[1],loss_curve)\n",
    "\n",
    "run_inference(\"surface_normal\", model, val_loader)"
   ]
  }
 ],
 "metadata": {
  "kernelspec": {
   "display_name": "Python 3",
   "language": "python",
   "name": "python3"
  },
  "language_info": {
   "codemirror_mode": {
    "name": "ipython",
    "version": 3
   },
   "file_extension": ".py",
   "mimetype": "text/x-python",
   "name": "python",
   "nbconvert_exporter": "python",
   "pygments_lexer": "ipython3",
   "version": "3.8.8"
  }
 },
 "nbformat": 4,
 "nbformat_minor": 5
}
