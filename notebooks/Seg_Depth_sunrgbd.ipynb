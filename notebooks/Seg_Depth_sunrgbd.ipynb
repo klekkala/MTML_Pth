{
 "cells": [
  {
   "cell_type": "code",
   "execution_count": 1,
   "id": "protective-baghdad",
   "metadata": {},
   "outputs": [],
   "source": [
    "from PIL import Image\n",
    "import numpy as np\n",
    "import matplotlib.pyplot as plt\n",
    "\n",
    "from utils import load_sunrgbd_dataset_original\n",
    "from utils import EarlyStopping\n",
    "from utils import get_data_loader\n",
    "from utils import ConfMatrix\n",
    "from utils import draw_training_curves\n",
    "from training import run_inference\n",
    "from training import train_model\n",
    "from training import train_loop\n",
    "from networks import SegNet\n",
    "\n",
    "BATCH_SIZE = 32"
   ]
  },
  {
   "cell_type": "code",
   "execution_count": null,
   "id": "younger-dodge",
   "metadata": {},
   "outputs": [],
   "source": [
    "data, label = load_sunrgbd_dataset_original(\"depth\")"
   ]
  }
 ],
 "metadata": {
  "kernelspec": {
   "display_name": "Python 3",
   "language": "python",
   "name": "python3"
  },
  "language_info": {
   "codemirror_mode": {
    "name": "ipython",
    "version": 3
   },
   "file_extension": ".py",
   "mimetype": "text/x-python",
   "name": "python",
   "nbconvert_exporter": "python",
   "pygments_lexer": "ipython3",
   "version": "3.8.8"
  }
 },
 "nbformat": 4,
 "nbformat_minor": 5
}
